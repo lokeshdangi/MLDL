{
  "nbformat": 4,
  "nbformat_minor": 0,
  "metadata": {
    "colab": {
      "name": "cifar-10.ipynb",
      "version": "0.3.2",
      "views": {},
      "default_view": {},
      "provenance": [],
      "collapsed_sections": []
    },
    "kernelspec": {
      "name": "python3",
      "display_name": "Python 3"
    },
    "accelerator": "GPU"
  },
  "cells": [
    {
      "metadata": {
        "id": "eDKkOCprdg95",
        "colab_type": "code",
        "colab": {
          "autoexec": {
            "startup": false,
            "wait_interval": 0
          },
          "base_uri": "https://localhost:8080/",
          "height": 272
        },
        "outputId": "b94a2374-15a3-40fa-e590-dcb8fec7703c",
        "executionInfo": {
          "status": "ok",
          "timestamp": 1530754446214,
          "user_tz": -330,
          "elapsed": 13961,
          "user": {
            "displayName": "Lokesh Dangi",
            "photoUrl": "//lh3.googleusercontent.com/-GRryg_nP_zQ/AAAAAAAAAAI/AAAAAAAAH0Y/-K9e3zxEasQ/s50-c-k-no/photo.jpg",
            "userId": "111948553550421305528"
          }
        }
      },
      "cell_type": "code",
      "source": [
        "! wget http://pjreddie.com/media/files/cifar.tgz"
      ],
      "execution_count": 2,
      "outputs": [
        {
          "output_type": "stream",
          "text": [
            "--2018-07-05 01:33:52--  http://pjreddie.com/media/files/cifar.tgz\n",
            "Resolving pjreddie.com (pjreddie.com)... 128.208.3.39\n",
            "Connecting to pjreddie.com (pjreddie.com)|128.208.3.39|:80... connected.\n",
            "HTTP request sent, awaiting response... 301 Moved Permanently\n",
            "Location: https://pjreddie.com/media/files/cifar.tgz [following]\n",
            "--2018-07-05 01:33:52--  https://pjreddie.com/media/files/cifar.tgz\n",
            "Connecting to pjreddie.com (pjreddie.com)|128.208.3.39|:443... connected.\n",
            "HTTP request sent, awaiting response... 200 OK\n",
            "Length: 168584360 (161M) [application/octet-stream]\n",
            "Saving to: ‘cifar.tgz’\n",
            "\n",
            "cifar.tgz           100%[===================>] 160.77M  20.6MB/s    in 8.6s    \n",
            "\n",
            "2018-07-05 01:34:02 (18.8 MB/s) - ‘cifar.tgz’ saved [168584360/168584360]\n",
            "\n"
          ],
          "name": "stdout"
        }
      ]
    },
    {
      "metadata": {
        "id": "iGET3UxUd37j",
        "colab_type": "code",
        "colab": {
          "autoexec": {
            "startup": false,
            "wait_interval": 0
          }
        }
      },
      "cell_type": "code",
      "source": [
        "!tar -xzf cifar.tgz"
      ],
      "execution_count": 0,
      "outputs": []
    },
    {
      "metadata": {
        "id": "HwZ_bycTeLhh",
        "colab_type": "code",
        "colab": {
          "autoexec": {
            "startup": false,
            "wait_interval": 0
          }
        }
      },
      "cell_type": "code",
      "source": [
        "from fastai.conv_learner import *\n",
        "import pandas as pd\n",
        "import numpy as np\n",
        "from PIL import Image"
      ],
      "execution_count": 0,
      "outputs": []
    },
    {
      "metadata": {
        "id": "ANb2Im0weMQ5",
        "colab_type": "code",
        "colab": {
          "autoexec": {
            "startup": false,
            "wait_interval": 0
          }
        }
      },
      "cell_type": "code",
      "source": [
        "labels = !cat cifar/labels.txt"
      ],
      "execution_count": 0,
      "outputs": []
    },
    {
      "metadata": {
        "id": "VurDphkbfEX7",
        "colab_type": "code",
        "colab": {
          "autoexec": {
            "startup": false,
            "wait_interval": 0
          }
        }
      },
      "cell_type": "code",
      "source": [
        "classes = labels"
      ],
      "execution_count": 0,
      "outputs": []
    },
    {
      "metadata": {
        "id": "5VPst70dfFTV",
        "colab_type": "code",
        "colab": {
          "autoexec": {
            "startup": false,
            "wait_interval": 0
          }
        }
      },
      "cell_type": "code",
      "source": [
        "train_list = !ls cifar/train"
      ],
      "execution_count": 0,
      "outputs": []
    },
    {
      "metadata": {
        "id": "LK6CL5akfR06",
        "colab_type": "code",
        "colab": {
          "autoexec": {
            "startup": false,
            "wait_interval": 0
          }
        }
      },
      "cell_type": "code",
      "source": [
        "images = [np.array(Image.open('cifar/train/' + x)) for x in train_list]"
      ],
      "execution_count": 0,
      "outputs": []
    },
    {
      "metadata": {
        "id": "6WIe_Ww3fTcg",
        "colab_type": "code",
        "colab": {
          "autoexec": {
            "startup": false,
            "wait_interval": 0
          }
        }
      },
      "cell_type": "code",
      "source": [
        "R_means = 0\n",
        "G_means = 0\n",
        "B_means = 0\n",
        "\n",
        "for x in images:\n",
        "  R_means+=np.mean(x[:,:,0])\n",
        "  G_means+=np.mean(x[:,:,1])\n",
        "  B_means+=np.mean(x[:,:,2])\n",
        "  \n",
        "R_mean = R_means/len(images)\n",
        "G_mean = G_means/len(images)\n",
        "B_mean = B_means/len(images)\n",
        "\n"
      ],
      "execution_count": 0,
      "outputs": []
    },
    {
      "metadata": {
        "id": "i0UeJxrqgKV3",
        "colab_type": "code",
        "colab": {
          "autoexec": {
            "startup": false,
            "wait_interval": 0
          },
          "base_uri": "https://localhost:8080/",
          "height": 34
        },
        "outputId": "764310b4-a209-4176-d3b7-4190526575f3",
        "executionInfo": {
          "status": "ok",
          "timestamp": 1530754517491,
          "user_tz": -330,
          "elapsed": 2583,
          "user": {
            "displayName": "Lokesh Dangi",
            "photoUrl": "//lh3.googleusercontent.com/-GRryg_nP_zQ/AAAAAAAAAAI/AAAAAAAAH0Y/-K9e3zxEasQ/s50-c-k-no/photo.jpg",
            "userId": "111948553550421305528"
          }
        }
      },
      "cell_type": "code",
      "source": [
        "R_mean/255,G_mean/255,B_mean/255"
      ],
      "execution_count": 11,
      "outputs": [
        {
          "output_type": "execute_result",
          "data": {
            "text/plain": [
              "(0.49139967861519607, 0.48215840839460783, 0.44653091444546567)"
            ]
          },
          "metadata": {
            "tags": []
          },
          "execution_count": 11
        }
      ]
    },
    {
      "metadata": {
        "id": "Uz8zqCC4gS3I",
        "colab_type": "code",
        "colab": {
          "autoexec": {
            "startup": false,
            "wait_interval": 0
          }
        }
      },
      "cell_type": "code",
      "source": [
        "stats = (np.array([R_mean/255,G_mean/255,B_mean/255]),np.array([0.24703,0.24349,0.26159]))"
      ],
      "execution_count": 0,
      "outputs": []
    },
    {
      "metadata": {
        "id": "xn2rmlphN0rr",
        "colab_type": "code",
        "colab": {
          "autoexec": {
            "startup": false,
            "wait_interval": 0
          }
        }
      },
      "cell_type": "code",
      "source": [
        "images_name = os.listdir('cifar/train')\n",
        "os.mkdir('cifar/train1')\n",
        "for x in classes:\n",
        "  os.mkdir('cifar/train1/' + x)\n",
        "for x in images_name:\n",
        "  dir_name = x.split('_')[1][:-4]\n",
        "  os.renames('cifar/train/'+x,'cifar/train1/'+ dir_name + '/' +x)\n",
        "  \n",
        "\n",
        "images_name = os.listdir('cifar/test')\n",
        "os.mkdir('cifar/test1')\n",
        "for x in classes:\n",
        "  os.mkdir('cifar/test1/' + x)\n",
        "for x in images_name:\n",
        "  dir_name = x.split('_')[1][:-4]\n",
        "  os.renames('cifar/test/'+x,'cifar/test1/'+ dir_name + '/' +x)"
      ],
      "execution_count": 0,
      "outputs": []
    },
    {
      "metadata": {
        "id": "KeIZIm4zilF6",
        "colab_type": "code",
        "colab": {
          "autoexec": {
            "startup": false,
            "wait_interval": 0
          }
        }
      },
      "cell_type": "code",
      "source": [
        "def get_data(sz,bs):\n",
        "  tfms = tfms_from_stats(stats,sz,aug_tfms = [RandomFlip()],pad = sz // 8)\n",
        "  return ImageClassifierData.from_paths('cifar/',trn_name='train1', val_name = 'test1',tfms = tfms,bs = bs)"
      ],
      "execution_count": 0,
      "outputs": []
    },
    {
      "metadata": {
        "id": "qLx3WPy-kXd4",
        "colab_type": "code",
        "colab": {
          "autoexec": {
            "startup": false,
            "wait_interval": 0
          }
        }
      },
      "cell_type": "code",
      "source": [
        "bs = 256"
      ],
      "execution_count": 0,
      "outputs": []
    },
    {
      "metadata": {
        "id": "6ncGIjSyFmIz",
        "colab_type": "code",
        "colab": {
          "autoexec": {
            "startup": false,
            "wait_interval": 0
          }
        }
      },
      "cell_type": "code",
      "source": [
        "data = get_data(32,bs)"
      ],
      "execution_count": 0,
      "outputs": []
    },
    {
      "metadata": {
        "id": "LhcUDJ9jPlM_",
        "colab_type": "code",
        "colab": {
          "autoexec": {
            "startup": false,
            "wait_interval": 0
          }
        }
      },
      "cell_type": "code",
      "source": [
        "class SimpleNet(nn.Module):\n",
        "    def __init__(self, layers):\n",
        "        super().__init__()\n",
        "        self.layers = nn.ModuleList([\n",
        "            nn.Linear(layers[i], layers[i + 1]) for i in range(len(layers) - 1)])\n",
        "        \n",
        "    def forward(self, x):\n",
        "        x = x.view(x.size(0), -1)\n",
        "        for l in self.layers:\n",
        "            l_x = l(x)\n",
        "            x = F.relu(l_x)\n",
        "        return F.log_softmax(l_x, dim=-1)"
      ],
      "execution_count": 0,
      "outputs": []
    },
    {
      "metadata": {
        "id": "7moYThziRcTs",
        "colab_type": "code",
        "colab": {
          "autoexec": {
            "startup": false,
            "wait_interval": 0
          }
        }
      },
      "cell_type": "code",
      "source": [
        ""
      ],
      "execution_count": 0,
      "outputs": []
    },
    {
      "metadata": {
        "id": "9AfVdagIJscU",
        "colab_type": "code",
        "colab": {
          "autoexec": {
            "startup": false,
            "wait_interval": 0
          }
        }
      },
      "cell_type": "code",
      "source": [
        "learn = ConvLearner.from_model_data(SimpleNet([32*32*3, 40,10]), data)"
      ],
      "execution_count": 0,
      "outputs": []
    },
    {
      "metadata": {
        "id": "CIA4NCTjHQfe",
        "colab_type": "code",
        "colab": {
          "autoexec": {
            "startup": false,
            "wait_interval": 0
          },
          "base_uri": "https://localhost:8080/",
          "height": 51
        },
        "outputId": "d24029a3-5ae4-44dd-920d-0965acddc5c7",
        "executionInfo": {
          "status": "ok",
          "timestamp": 1530757409458,
          "user_tz": -330,
          "elapsed": 21541,
          "user": {
            "displayName": "Lokesh Dangi",
            "photoUrl": "//lh3.googleusercontent.com/-GRryg_nP_zQ/AAAAAAAAAAI/AAAAAAAAH0Y/-K9e3zxEasQ/s50-c-k-no/photo.jpg",
            "userId": "111948553550421305528"
          }
        }
      },
      "cell_type": "code",
      "source": [
        "learn.lr_find()"
      ],
      "execution_count": 94,
      "outputs": [
        {
          "output_type": "display_data",
          "data": {
            "application/vnd.jupyter.widget-view+json": {
              "model_id": "a76d2cb3b34c42399399e3bf8db42cee",
              "version_minor": 0,
              "version_major": 2
            },
            "text/plain": [
              "HBox(children=(IntProgress(value=0, description='Epoch', max=1), HTML(value='')))"
            ]
          },
          "metadata": {
            "tags": []
          }
        },
        {
          "output_type": "stream",
          "text": [
            " 76%|███████▌  | 148/196 [00:20<00:06,  7.17it/s, loss=8.88]"
          ],
          "name": "stdout"
        }
      ]
    },
    {
      "metadata": {
        "id": "70iU4RlhQboK",
        "colab_type": "code",
        "colab": {
          "autoexec": {
            "startup": false,
            "wait_interval": 0
          }
        }
      },
      "cell_type": "code",
      "source": [
        "%matplotlib inline"
      ],
      "execution_count": 0,
      "outputs": []
    },
    {
      "metadata": {
        "id": "V312ZL1IQBW3",
        "colab_type": "code",
        "colab": {
          "autoexec": {
            "startup": false,
            "wait_interval": 0
          },
          "base_uri": "https://localhost:8080/",
          "height": 283
        },
        "outputId": "955ed690-c86b-4ce5-8c10-3072e51376d9",
        "executionInfo": {
          "status": "ok",
          "timestamp": 1530757510070,
          "user_tz": -330,
          "elapsed": 3240,
          "user": {
            "displayName": "Lokesh Dangi",
            "photoUrl": "//lh3.googleusercontent.com/-GRryg_nP_zQ/AAAAAAAAAAI/AAAAAAAAH0Y/-K9e3zxEasQ/s50-c-k-no/photo.jpg",
            "userId": "111948553550421305528"
          }
        }
      },
      "cell_type": "code",
      "source": [
        "learn.sched.plot()"
      ],
      "execution_count": 100,
      "outputs": [
        {
          "output_type": "display_data",
          "data": {
            "image/png": "[encoded data removed]",
            "text/plain": [
              "<matplotlib.figure.Figure at 0x7fbd31b96e10>"
            ]
          },
          "metadata": {
            "tags": []
          }
        }
      ]
    },
    {
      "metadata": {
        "id": "rCd7sClrQK91",
        "colab_type": "code",
        "colab": {
          "autoexec": {
            "startup": false,
            "wait_interval": 0
          },
          "base_uri": "https://localhost:8080/",
          "height": 280
        },
        "outputId": "57b9a33d-0734-48c1-812e-c8160b9fd3f9",
        "executionInfo": {
          "status": "ok",
          "timestamp": 1530757561820,
          "user_tz": -330,
          "elapsed": 4093,
          "user": {
            "displayName": "Lokesh Dangi",
            "photoUrl": "//lh3.googleusercontent.com/-GRryg_nP_zQ/AAAAAAAAAAI/AAAAAAAAH0Y/-K9e3zxEasQ/s50-c-k-no/photo.jpg",
            "userId": "111948553550421305528"
          }
        }
      },
      "cell_type": "code",
      "source": [
        "learn.sched.plot_lr()"
      ],
      "execution_count": 102,
      "outputs": [
        {
          "output_type": "display_data",
          "data": {
            "image/png": "[encoded data removed]",
            "text/plain": [
              "<matplotlib.figure.Figure at 0x7fbd31b8c438>"
            ]
          },
          "metadata": {
            "tags": []
          }
        }
      ]
    },
    {
      "metadata": {
        "id": "wTke0lZ7QlbM",
        "colab_type": "code",
        "colab": {
          "autoexec": {
            "startup": false,
            "wait_interval": 0
          },
          "base_uri": "https://localhost:8080/",
          "height": 119
        },
        "outputId": "adddcc9b-87f0-410c-d58b-ede333206020",
        "executionInfo": {
          "status": "ok",
          "timestamp": 1530757738960,
          "user_tz": -330,
          "elapsed": 95069,
          "user": {
            "displayName": "Lokesh Dangi",
            "photoUrl": "//lh3.googleusercontent.com/-GRryg_nP_zQ/AAAAAAAAAAI/AAAAAAAAH0Y/-K9e3zxEasQ/s50-c-k-no/photo.jpg",
            "userId": "111948553550421305528"
          }
        }
      },
      "cell_type": "code",
      "source": [
        "learn.fit(1e-2, 2, cycle_len=1,cycle_mult = 2)"
      ],
      "execution_count": 104,
      "outputs": [
        {
          "output_type": "display_data",
          "data": {
            "application/vnd.jupyter.widget-view+json": {
              "model_id": "85a70c2fdd22431199bc7f3460934cf1",
              "version_minor": 0,
              "version_major": 2
            },
            "text/plain": [
              "HBox(children=(IntProgress(value=0, description='Epoch', max=3), HTML(value='')))"
            ]
          },
          "metadata": {
            "tags": []
          }
        },
        {
          "output_type": "stream",
          "text": [
            "epoch      trn_loss   val_loss   accuracy   \n",
            "    0      1.783794   1.690955   0.4073    \n",
            "    1      1.707114   1.590096   0.4468    \n",
            " 70%|██████▉   | 137/196 [00:19<00:08,  6.99it/s, loss=1.66]"
          ],
          "name": "stdout"
        },
        {
          "output_type": "stream",
          "text": [
            "    2      1.646651   1.557187   0.4568    \n"
          ],
          "name": "stdout"
        },
        {
          "output_type": "execute_result",
          "data": {
            "text/plain": [
              "[array([1.55719]), 0.4568]"
            ]
          },
          "metadata": {
            "tags": []
          },
          "execution_count": 104
        }
      ]
    },
    {
      "metadata": {
        "id": "rjVrhDSETaWs",
        "colab_type": "code",
        "colab": {
          "autoexec": {
            "startup": false,
            "wait_interval": 0
          }
        }
      },
      "cell_type": "code",
      "source": [
        "class ConvNet(nn.Module):\n",
        "    def __init__(self, layers,c):\n",
        "        super().__init__()\n",
        "        self.layers = nn.ModuleList([ nn.Conv2d(layers[i], layers[i + 1],kernel_size = 3,stride =2) for i in range(len(layers) - 1) ])\n",
        "        self.pool = nn.AdaptiveMaxPool2d(1)\n",
        "        self.out = nn.Linear(layers[-1],c)\n",
        "    def forward(self, x):\n",
        "        for l in self.layers:\n",
        "            l_x = l(x)\n",
        "            x = F.relu(l_x)\n",
        "        x = self.pool(x)\n",
        "        x = x.view(x.size(0), -1)\n",
        "        x = self.out(x)\n",
        "        return F.log_softmax(x, dim=-1)"
      ],
      "execution_count": 0,
      "outputs": []
    },
    {
      "metadata": {
        "id": "u18E1KW7X-RN",
        "colab_type": "code",
        "colab": {
          "autoexec": {
            "startup": false,
            "wait_interval": 0
          }
        }
      },
      "cell_type": "code",
      "source": [
        "learn = ConvLearner.from_model_data(ConvNet([3,20,40,80],10), data)"
      ],
      "execution_count": 0,
      "outputs": []
    },
    {
      "metadata": {
        "id": "vBfYSuSQYq6H",
        "colab_type": "code",
        "colab": {
          "autoexec": {
            "startup": false,
            "wait_interval": 0
          },
          "base_uri": "https://localhost:8080/",
          "height": 51
        },
        "outputId": "56ddc8a8-8667-4eb1-96e4-ab52e9cbe9b8",
        "executionInfo": {
          "status": "ok",
          "timestamp": 1530760191413,
          "user_tz": -330,
          "elapsed": 22127,
          "user": {
            "displayName": "Lokesh Dangi",
            "photoUrl": "//lh3.googleusercontent.com/-GRryg_nP_zQ/AAAAAAAAAAI/AAAAAAAAH0Y/-K9e3zxEasQ/s50-c-k-no/photo.jpg",
            "userId": "111948553550421305528"
          }
        }
      },
      "cell_type": "code",
      "source": [
        "learn.lr_find(end_lr = 100)"
      ],
      "execution_count": 156,
      "outputs": [
        {
          "output_type": "display_data",
          "data": {
            "application/vnd.jupyter.widget-view+json": {
              "model_id": "94d56b9fef4e4d4aa46e6cd7efb4f2d7",
              "version_minor": 0,
              "version_major": 2
            },
            "text/plain": [
              "HBox(children=(IntProgress(value=0, description='Epoch', max=1), HTML(value='')))"
            ]
          },
          "metadata": {
            "tags": []
          }
        },
        {
          "output_type": "stream",
          "text": [
            " 71%|███████   | 139/196 [00:19<00:07,  7.24it/s, loss=7.15e+04]"
          ],
          "name": "stdout"
        }
      ]
    },
    {
      "metadata": {
        "id": "ZWL13pCkZGEB",
        "colab_type": "code",
        "colab": {
          "autoexec": {
            "startup": false,
            "wait_interval": 0
          },
          "base_uri": "https://localhost:8080/",
          "height": 283
        },
        "outputId": "84e3da84-57e8-4852-b3aa-0160aa6d097d",
        "executionInfo": {
          "status": "ok",
          "timestamp": 1530760202975,
          "user_tz": -330,
          "elapsed": 2785,
          "user": {
            "displayName": "Lokesh Dangi",
            "photoUrl": "//lh3.googleusercontent.com/-GRryg_nP_zQ/AAAAAAAAAAI/AAAAAAAAH0Y/-K9e3zxEasQ/s50-c-k-no/photo.jpg",
            "userId": "111948553550421305528"
          }
        }
      },
      "cell_type": "code",
      "source": [
        "learn.sched.plot()"
      ],
      "execution_count": 157,
      "outputs": [
        {
          "output_type": "display_data",
          "data": {
            "image/png": "[encoded data removed]",
            "text/plain": [
              "<matplotlib.figure.Figure at 0x7fbd78b98400>"
            ]
          },
          "metadata": {
            "tags": []
          }
        }
      ]
    },
    {
      "metadata": {
        "id": "UvQj0s8kZx_L",
        "colab_type": "code",
        "colab": {
          "autoexec": {
            "startup": false,
            "wait_interval": 0
          },
          "base_uri": "https://localhost:8080/",
          "height": 119
        },
        "outputId": "17adb9c0-7dae-40eb-95c1-c3368acab058",
        "executionInfo": {
          "status": "ok",
          "timestamp": 1530760323430,
          "user_tz": -330,
          "elapsed": 95354,
          "user": {
            "displayName": "Lokesh Dangi",
            "photoUrl": "//lh3.googleusercontent.com/-GRryg_nP_zQ/AAAAAAAAAAI/AAAAAAAAH0Y/-K9e3zxEasQ/s50-c-k-no/photo.jpg",
            "userId": "111948553550421305528"
          }
        }
      },
      "cell_type": "code",
      "source": [
        "learn.fit(1e-1, 2, cycle_len=1,cycle_mult = 2)"
      ],
      "execution_count": 158,
      "outputs": [
        {
          "output_type": "display_data",
          "data": {
            "application/vnd.jupyter.widget-view+json": {
              "model_id": "735655b3ead4442daa6588b0423e6bff",
              "version_minor": 0,
              "version_major": 2
            },
            "text/plain": [
              "HBox(children=(IntProgress(value=0, description='Epoch', max=3), HTML(value='')))"
            ]
          },
          "metadata": {
            "tags": []
          }
        },
        {
          "output_type": "stream",
          "text": [
            "epoch      trn_loss   val_loss   accuracy   \n",
            "    0      1.701817   1.599302   0.4222    \n",
            "    1      1.538725   1.419535   0.493     \n",
            " 66%|██████▋   | 130/196 [00:17<00:09,  7.23it/s, loss=1.38]"
          ],
          "name": "stdout"
        },
        {
          "output_type": "stream",
          "text": [
            "    2      1.330014   1.283045   0.5361    \n"
          ],
          "name": "stdout"
        },
        {
          "output_type": "execute_result",
          "data": {
            "text/plain": [
              "[array([1.28304]), 0.5361]"
            ]
          },
          "metadata": {
            "tags": []
          },
          "execution_count": 158
        }
      ]
    },
    {
      "metadata": {
        "id": "f2a42mbMa2x1",
        "colab_type": "code",
        "colab": {
          "autoexec": {
            "startup": false,
            "wait_interval": 0
          }
        }
      },
      "cell_type": "code",
      "source": [
        "class ConvLayer(nn.Module):\n",
        "  def __init__(self,ni,nf):\n",
        "    super().__init__()\n",
        "    self.conv = nn.Conv2d(ni, nf, kernel_size=3, stride=2, padding=1)\n",
        "    \n",
        "  def forward(self, x): return F.relu(self.conv(x))\n",
        "    \n",
        "\n",
        "class ConvNet(nn.Module):\n",
        "    def __init__(self, layers,c):\n",
        "        super().__init__()\n",
        "        self.layers = nn.ModuleList([ ConvLayer(layers[i], layers[i + 1]) for i in range(len(layers) - 1) ])\n",
        "        self.out = nn.Linear(layers[-1],c)\n",
        "    def forward(self, x):\n",
        "        for l in self.layers:l(x)\n",
        "        x = F.adaptive_max_pool2d(x,1)\n",
        "        x = x.view(x.size(0), -1)\n",
        "        x = self.out(x)\n",
        "        return F.log_softmax(x, dim=-1)"
      ],
      "execution_count": 0,
      "outputs": []
    },
    {
      "metadata": {
        "id": "Mdro0Msbc4jh",
        "colab_type": "code",
        "colab": {
          "autoexec": {
            "startup": false,
            "wait_interval": 0
          },
          "base_uri": "https://localhost:8080/",
          "height": 119
        },
        "outputId": "4c125750-a4db-4276-91f9-6f7b5675fe38",
        "executionInfo": {
          "status": "ok",
          "timestamp": 1530760865409,
          "user_tz": -330,
          "elapsed": 99822,
          "user": {
            "displayName": "Lokesh Dangi",
            "photoUrl": "//lh3.googleusercontent.com/-GRryg_nP_zQ/AAAAAAAAAAI/AAAAAAAAH0Y/-K9e3zxEasQ/s50-c-k-no/photo.jpg",
            "userId": "111948553550421305528"
          }
        }
      },
      "cell_type": "code",
      "source": [
        "learn.fit(1e-1, 2, cycle_len=1,cycle_mult = 2)"
      ],
      "execution_count": 160,
      "outputs": [
        {
          "output_type": "display_data",
          "data": {
            "application/vnd.jupyter.widget-view+json": {
              "model_id": "258e6207fbdc46ef8b1101e29f26fb2a",
              "version_minor": 0,
              "version_major": 2
            },
            "text/plain": [
              "HBox(children=(IntProgress(value=0, description='Epoch', max=3), HTML(value='')))"
            ]
          },
          "metadata": {
            "tags": []
          }
        },
        {
          "output_type": "stream",
          "text": [
            "epoch      trn_loss   val_loss   accuracy   \n",
            "    0      1.330489   1.251512   0.5465    \n",
            "    1      1.352371   1.264361   0.5444    \n",
            " 62%|██████▏   | 122/196 [00:18<00:11,  6.72it/s, loss=1.22]"
          ],
          "name": "stdout"
        },
        {
          "output_type": "stream",
          "text": [
            "    2      1.199208   1.152387   0.5851    \n"
          ],
          "name": "stdout"
        },
        {
          "output_type": "execute_result",
          "data": {
            "text/plain": [
              "[array([1.15239]), 0.5851]"
            ]
          },
          "metadata": {
            "tags": []
          },
          "execution_count": 160
        }
      ]
    },
    {
      "metadata": {
        "id": "q3vJGqAXc6AO",
        "colab_type": "code",
        "colab": {
          "autoexec": {
            "startup": false,
            "wait_interval": 0
          }
        }
      },
      "cell_type": "code",
      "source": [
        "class BatchNorm(nn.Module):\n",
        "  def __init__(self,ni,nf,stride = 2):\n",
        "    super().__init__()\n",
        "    self.conv = nn.Conv2d(ni, nf, bias=False,kernel_size=3, stride=2, padding=1)\n",
        "    self.m = nn.Parameter(torch.ones(nf,1,1))\n",
        "    self.a = nn.Parameter(torch.zeros(nf,1,1))\n",
        "    \n",
        "  def forward(self, x):\n",
        "    x = F.relu(self.conv(x))\n",
        "    x_chan = x.transpose(0,1).contiguous().view(x.size(1),-1)\n",
        "    if self.training:\n",
        "      self.means = x_chan.mean(1)[:,None,None]\n",
        "      self.stds = x_chan.std(1)[:,None,None]\n",
        "    \n",
        "    return (x - self.means)/self.stds * self.m + self.a\n",
        "    \n",
        "\n",
        "class ConvBnNet(nn.Module):\n",
        "    def __init__(self, layers,c):\n",
        "        super().__init__()\n",
        "        self.conv1 =  nn.Conv2d(3,10, kernel_size=5, stride=1, padding=2)\n",
        "        self.layers = nn.ModuleList([ BatchNorm(layers[i], layers[i + 1]) for i in range(len(layers) - 1) ])\n",
        "        self.out = nn.Linear(layers[-1],c)\n",
        "        \n",
        "    def forward(self, x):\n",
        "        x = self.conv1(x)\n",
        "        for l in self.layers: x = l(x)\n",
        "        x = F.adaptive_max_pool2d(x,1)\n",
        "        x = x.view(x.size(0), -1)\n",
        "        x = self.out(x)\n",
        "        return F.log_softmax(x, dim=-1)"
      ],
      "execution_count": 0,
      "outputs": []
    },
    {
      "metadata": {
        "id": "TrjoXQnKokWX",
        "colab_type": "code",
        "colab": {
          "autoexec": {
            "startup": false,
            "wait_interval": 0
          }
        }
      },
      "cell_type": "code",
      "source": [
        "learn = ConvLearner.from_model_data(ConvBnNet([10,20, 40, 80, 160], 10), data)"
      ],
      "execution_count": 0,
      "outputs": []
    },
    {
      "metadata": {
        "id": "Ug1CfgyOos2g",
        "colab_type": "code",
        "colab": {
          "autoexec": {
            "startup": false,
            "wait_interval": 0
          },
          "base_uri": "https://localhost:8080/",
          "height": 323
        },
        "outputId": "ebba5ba1-62bc-4f2e-92cf-4b63f0504254",
        "executionInfo": {
          "status": "ok",
          "timestamp": 1530765155211,
          "user_tz": -330,
          "elapsed": 503656,
          "user": {
            "displayName": "Lokesh Dangi",
            "photoUrl": "//lh3.googleusercontent.com/-GRryg_nP_zQ/AAAAAAAAAAI/AAAAAAAAH0Y/-K9e3zxEasQ/s50-c-k-no/photo.jpg",
            "userId": "111948553550421305528"
          }
        }
      },
      "cell_type": "code",
      "source": [
        "learn.fit(1e-1, 4, cycle_len=1, cycle_mult = 2)"
      ],
      "execution_count": 188,
      "outputs": [
        {
          "output_type": "display_data",
          "data": {
            "application/vnd.jupyter.widget-view+json": {
              "model_id": "89d3496361c74b579b6a3952be8a93e4",
              "version_minor": 0,
              "version_major": 2
            },
            "text/plain": [
              "HBox(children=(IntProgress(value=0, description='Epoch', max=15), HTML(value='')))"
            ]
          },
          "metadata": {
            "tags": []
          }
        },
        {
          "output_type": "stream",
          "text": [
            "epoch      trn_loss   val_loss   accuracy   \n",
            "    0      1.754218   1.635558   0.4167    \n",
            "    1      1.558866   1.428542   0.4738    \n",
            " 29%|██▉       | 57/196 [00:09<00:22,  6.21it/s, loss=1.49]"
          ],
          "name": "stdout"
        },
        {
          "output_type": "stream",
          "text": [
            "    2      1.417802   1.38899    0.5022    \n",
            "    3      1.397442   1.301402   0.5267    \n",
            " 81%|████████  | 158/196 [00:23<00:05,  6.65it/s, loss=1.31]"
          ],
          "name": "stdout"
        },
        {
          "output_type": "stream",
          "text": [
            "    4      1.286155   1.192171   0.5687    \n",
            "    5      1.202853   1.136188   0.595     \n",
            "    6      1.159363   1.129434   0.5982    \n",
            "  1%|          | 1/196 [00:01<03:37,  1.12s/it, loss=1.16]"
          ],
          "name": "stdout"
        },
        {
          "output_type": "stream",
          "text": [
            "    7      1.227001   1.184879   0.5725    \n",
            "    8      1.163662   1.113388   0.6037    \n",
            " 69%|██████▉   | 135/196 [00:20<00:09,  6.45it/s, loss=1.1]"
          ],
          "name": "stdout"
        },
        {
          "output_type": "stream",
          "text": [
            "    9      1.094038   1.055741   0.6299    \n",
            "    10     1.042546   1.031592   0.6426    \n",
            " 96%|█████████▌| 188/196 [00:29<00:01,  6.42it/s, loss=0.993]"
          ],
          "name": "stdout"
        },
        {
          "output_type": "stream",
          "text": [
            "    11     0.993158   0.942613   0.6695    \n",
            "    12     0.958616   0.953621   0.6671    \n",
            "    13     0.933894   0.930245   0.6742    \n",
            "  5%|▌         | 10/196 [00:02<00:45,  4.13it/s, loss=0.927]"
          ],
          "name": "stdout"
        },
        {
          "output_type": "stream",
          "text": [
            "    14     0.921293   0.955001   0.6679    \n"
          ],
          "name": "stdout"
        },
        {
          "output_type": "execute_result",
          "data": {
            "text/plain": [
              "[array([0.955]), 0.6679]"
            ]
          },
          "metadata": {
            "tags": []
          },
          "execution_count": 188
        }
      ]
    },
    {
      "metadata": {
        "id": "A8psNu2cvQ_D",
        "colab_type": "code",
        "colab": {
          "autoexec": {
            "startup": false,
            "wait_interval": 0
          }
        }
      },
      "cell_type": "code",
      "source": [
        "class BatchNorm(nn.Module):\n",
        "  def __init__(self,ni,nf,stride = 2):\n",
        "    super().__init__()\n",
        "    self.conv = nn.Conv2d(ni, nf, bias=False,kernel_size=3, stride=stride, padding=1)\n",
        "    self.m = nn.Parameter(torch.ones(nf,1,1))\n",
        "    self.a = nn.Parameter(torch.zeros(nf,1,1))\n",
        "    \n",
        "  def forward(self, x):\n",
        "    x = F.relu(self.conv(x))\n",
        "    x_chan = x.transpose(0,1).contiguous().view(x.size(1),-1)\n",
        "    if self.training:\n",
        "      self.means = x_chan.mean(1)[:,None,None]\n",
        "      self.stds = x_chan.std(1)[:,None,None]\n",
        "    \n",
        "    return (x - self.means)/self.stds * self.m + self.a"
      ],
      "execution_count": 0,
      "outputs": []
    },
    {
      "metadata": {
        "id": "fySt8uvOo3N1",
        "colab_type": "code",
        "colab": {
          "autoexec": {
            "startup": false,
            "wait_interval": 0
          }
        }
      },
      "cell_type": "code",
      "source": [
        "class ResnetLayer(BatchNorm):\n",
        "    def forward(self, x): return x + super().forward(x)"
      ],
      "execution_count": 0,
      "outputs": []
    },
    {
      "metadata": {
        "id": "c4yaS2d9t0gu",
        "colab_type": "code",
        "colab": {
          "autoexec": {
            "startup": false,
            "wait_interval": 0
          }
        }
      },
      "cell_type": "code",
      "source": [
        "class Resnet(nn.Module):\n",
        "    def __init__(self, layers,c):\n",
        "        super().__init__()\n",
        "        self.conv1 =  nn.Conv2d(3,10, kernel_size=5, stride=1, padding=2)\n",
        "        self.layers = nn.ModuleList([ BatchNorm(layers[i], layers[i + 1]) for i in range(len(layers) - 1) ])\n",
        "        self.layers2 = nn.ModuleList([ ResnetLayer(layers[i+1], layers[i + 1],1) for i in range(len(layers) - 1) ])\n",
        "        self.layers3 = nn.ModuleList([ ResnetLayer(layers[i+1], layers[i + 1],1) for i in range(len(layers) - 1) ])\n",
        "        self.out = nn.Linear(layers[-1],c)\n",
        "        \n",
        "    def forward(self, x):\n",
        "        x = self.conv1(x)\n",
        "        for l1,l2,l3 in zip(self.layers,self.layers2,self.layers3): x = l3(l2(l1(x)))\n",
        "        x = F.adaptive_max_pool2d(x,1)\n",
        "        x = x.view(x.size(0), -1)\n",
        "        x = self.out(x)\n",
        "        return F.log_softmax(x, dim=-1)"
      ],
      "execution_count": 0,
      "outputs": []
    },
    {
      "metadata": {
        "id": "g45q5ENyuuYp",
        "colab_type": "code",
        "colab": {
          "autoexec": {
            "startup": false,
            "wait_interval": 0
          }
        }
      },
      "cell_type": "code",
      "source": [
        "learn = ConvLearner.from_model_data(Resnet([10,20, 40, 80, 160], 10), data)"
      ],
      "execution_count": 0,
      "outputs": []
    },
    {
      "metadata": {
        "id": "u39WzCFiwYkc",
        "colab_type": "code",
        "colab": {
          "autoexec": {
            "startup": false,
            "wait_interval": 0
          }
        }
      },
      "cell_type": "code",
      "source": [
        "wd=1e-5"
      ],
      "execution_count": 0,
      "outputs": []
    },
    {
      "metadata": {
        "id": "860arghku3uW",
        "colab_type": "code",
        "colab": {
          "autoexec": {
            "startup": false,
            "wait_interval": 0
          },
          "base_uri": "https://localhost:8080/",
          "height": 187
        },
        "outputId": "c50ded27-2634-4354-ec88-82daac68ef1e",
        "executionInfo": {
          "status": "ok",
          "timestamp": 1530766977443,
          "user_tz": -330,
          "elapsed": 334951,
          "user": {
            "displayName": "Lokesh Dangi",
            "photoUrl": "//lh3.googleusercontent.com/-GRryg_nP_zQ/AAAAAAAAAAI/AAAAAAAAH0Y/-K9e3zxEasQ/s50-c-k-no/photo.jpg",
            "userId": "111948553550421305528"
          }
        }
      },
      "cell_type": "code",
      "source": [
        "learn.fit(1e-2, 3, cycle_len=1, cycle_mult=2)"
      ],
      "execution_count": 228,
      "outputs": [
        {
          "output_type": "display_data",
          "data": {
            "application/vnd.jupyter.widget-view+json": {
              "model_id": "7b3077e8255e4fbd90c88e445cf89a93",
              "version_minor": 0,
              "version_major": 2
            },
            "text/plain": [
              "HBox(children=(IntProgress(value=0, description='Epoch', max=7), HTML(value='')))"
            ]
          },
          "metadata": {
            "tags": []
          }
        },
        {
          "output_type": "stream",
          "text": [
            "epoch      trn_loss   val_loss   accuracy   \n",
            "    0      1.676546   1.541016   0.4444    \n",
            "    1      1.452369   1.498849   0.4931    \n",
            " 24%|██▍       | 47/196 [00:14<00:45,  3.30it/s, loss=1.41]"
          ],
          "name": "stdout"
        },
        {
          "output_type": "stream",
          "text": [
            "    2      1.285902   1.203158   0.5691    \n",
            "    3      1.282441   1.282425   0.5655    \n",
            " 72%|███████▏  | 141/196 [00:32<00:12,  4.32it/s, loss=1.16]"
          ],
          "name": "stdout"
        },
        {
          "output_type": "stream",
          "text": [
            "    4      1.124513   1.094326   0.6145    \n",
            "    5      1.010799   0.985168   0.6516    \n",
            " 90%|█████████ | 177/196 [00:40<00:04,  4.39it/s, loss=0.953]"
          ],
          "name": "stdout"
        },
        {
          "output_type": "stream",
          "text": [
            "    6      0.951026   0.967116   0.6546    \n"
          ],
          "name": "stdout"
        },
        {
          "output_type": "execute_result",
          "data": {
            "text/plain": [
              "[array([0.96712]), 0.6546]"
            ]
          },
          "metadata": {
            "tags": []
          },
          "execution_count": 228
        }
      ]
    },
    {
      "metadata": {
        "id": "udomlgJPvY6a",
        "colab_type": "code",
        "colab": {
          "autoexec": {
            "startup": false,
            "wait_interval": 0
          }
        }
      },
      "cell_type": "code",
      "source": [
        "class Resnet2(nn.Module):\n",
        "    def __init__(self, layers,c):\n",
        "        super().__init__()\n",
        "        self.conv1 =  nn.Conv2d(3,16, kernel_size=5, stride=1, padding=2)\n",
        "        self.layers = nn.ModuleList([ BatchNorm(layers[i], layers[i + 1]) for i in range(len(layers) - 1) ])\n",
        "        self.layers2 = nn.ModuleList([ ResnetLayer(layers[i+1], layers[i + 1],1) for i in range(len(layers) - 1) ])\n",
        "        self.layers3 = nn.ModuleList([ ResnetLayer(layers[i+1], layers[i + 1],1) for i in range(len(layers) - 1) ])\n",
        "        self.out = nn.Linear(layers[-1],c)\n",
        "        self.drop = nn.Dropout(0.2)\n",
        "        \n",
        "        \n",
        "    def forward(self, x):\n",
        "        x = self.conv1(x)\n",
        "        for l1,l2,l3 in zip(self.layers,self.layers2,self.layers3): x = l3(l2(l1(x)))\n",
        "        x = F.adaptive_max_pool2d(x,1)\n",
        "        x = x.view(x.size(0), -1)\n",
        "        x = self.out(x)\n",
        "        x = self.drop(x)\n",
        "        return F.log_softmax(x, dim=-1)"
      ],
      "execution_count": 0,
      "outputs": []
    },
    {
      "metadata": {
        "id": "8974gd7ayhoE",
        "colab_type": "code",
        "colab": {
          "autoexec": {
            "startup": false,
            "wait_interval": 0
          }
        }
      },
      "cell_type": "code",
      "source": [
        "learn = ConvLearner.from_model_data(Resnet2([16, 32, 64, 128, 256], 10), data)"
      ],
      "execution_count": 0,
      "outputs": []
    },
    {
      "metadata": {
        "id": "XH-IbDhz1Col",
        "colab_type": "code",
        "colab": {
          "autoexec": {
            "startup": false,
            "wait_interval": 0
          },
          "base_uri": "https://localhost:8080/",
          "height": 187
        },
        "outputId": "36733f56-2044-4984-d552-3b9ebddbeed5",
        "executionInfo": {
          "status": "ok",
          "timestamp": 1530767751176,
          "user_tz": -330,
          "elapsed": 404317,
          "user": {
            "displayName": "Lokesh Dangi",
            "photoUrl": "//lh3.googleusercontent.com/-GRryg_nP_zQ/AAAAAAAAAAI/AAAAAAAAH0Y/-K9e3zxEasQ/s50-c-k-no/photo.jpg",
            "userId": "111948553550421305528"
          }
        }
      },
      "cell_type": "code",
      "source": [
        "learn.fit(1e-2, 3, cycle_len=1, cycle_mult=2)"
      ],
      "execution_count": 245,
      "outputs": [
        {
          "output_type": "display_data",
          "data": {
            "application/vnd.jupyter.widget-view+json": {
              "model_id": "e4e9d592efee47949fd17bda4bc8d819",
              "version_minor": 0,
              "version_major": 2
            },
            "text/plain": [
              "HBox(children=(IntProgress(value=0, description='Epoch', max=7), HTML(value='')))"
            ]
          },
          "metadata": {
            "tags": []
          }
        },
        {
          "output_type": "stream",
          "text": [
            "epoch      trn_loss   val_loss   accuracy   \n",
            "    0      1.956423   1.691327   0.4033    \n",
            "    1      1.758994   1.452216   0.472     \n",
            " 24%|██▍       | 47/196 [00:15<00:48,  3.08it/s, loss=1.68]"
          ],
          "name": "stdout"
        },
        {
          "output_type": "stream",
          "text": [
            "    2      1.557765   1.33557    0.5248    \n",
            "    3      1.646108   1.374427   0.5021    \n",
            " 72%|███████▏  | 141/196 [00:39<00:15,  3.58it/s, loss=1.5]"
          ],
          "name": "stdout"
        },
        {
          "output_type": "stream",
          "text": [
            "    4      1.479556   1.17899    0.5872    \n",
            "    5      1.340265   1.072884   0.6268    \n",
            " 91%|█████████ | 178/196 [00:49<00:05,  3.59it/s, loss=1.28]"
          ],
          "name": "stdout"
        },
        {
          "output_type": "stream",
          "text": [
            "    6      1.28255    1.072367   0.6291    \n"
          ],
          "name": "stdout"
        },
        {
          "output_type": "execute_result",
          "data": {
            "text/plain": [
              "[array([1.07237]), 0.6291]"
            ]
          },
          "metadata": {
            "tags": []
          },
          "execution_count": 245
        }
      ]
    },
    {
      "metadata": {
        "id": "ridHeCBG1FcI",
        "colab_type": "code",
        "colab": {
          "autoexec": {
            "startup": false,
            "wait_interval": 0
          }
        }
      },
      "cell_type": "code",
      "source": [
        ""
      ],
      "execution_count": 0,
      "outputs": []
    }
  ]
}