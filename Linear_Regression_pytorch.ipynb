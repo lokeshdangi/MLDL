{
  "nbformat": 4,
  "nbformat_minor": 0,
  "metadata": {
    "colab": {
      "name": "Linear Regression pytorch.ipynb",
      "version": "0.3.2",
      "views": {},
      "default_view": {},
      "provenance": [],
      "collapsed_sections": []
    },
    "kernelspec": {
      "name": "python3",
      "display_name": "Python 3"
    },
    "accelerator": "GPU"
  },
  "cells": [
    {
      "metadata": {
        "id": "0ToXmTvbH9Qg",
        "colab_type": "code",
        "colab": {
          "autoexec": {
            "startup": false,
            "wait_interval": 0
          }
        }
      },
      "cell_type": "code",
      "source": [
        "!pip install fastai"
      ],
      "execution_count": 0,
      "outputs": []
    },
    {
      "metadata": {
        "id": "RyXU0COGIj-I",
        "colab_type": "code",
        "colab": {
          "autoexec": {
            "startup": false,
            "wait_interval": 0
          }
        }
      },
      "cell_type": "code",
      "source": [
        "from fastai.learner import *"
      ],
      "execution_count": 0,
      "outputs": []
    },
    {
      "metadata": {
        "id": "SKOP3FtuIF8N",
        "colab_type": "code",
        "colab": {
          "autoexec": {
            "startup": false,
            "wait_interval": 0
          }
        }
      },
      "cell_type": "code",
      "source": [
        "% matplotlib inline"
      ],
      "execution_count": 0,
      "outputs": []
    },
    {
      "metadata": {
        "id": "JOHnF5IkINVs",
        "colab_type": "code",
        "colab": {
          "autoexec": {
            "startup": false,
            "wait_interval": 0
          }
        }
      },
      "cell_type": "code",
      "source": [
        "def lin(a,b,x): return a*x + b"
      ],
      "execution_count": 0,
      "outputs": []
    },
    {
      "metadata": {
        "id": "v4qnEsgpIPgZ",
        "colab_type": "code",
        "colab": {
          "autoexec": {
            "startup": false,
            "wait_interval": 0
          }
        }
      },
      "cell_type": "code",
      "source": [
        "def fake_data(n,a,b):\n",
        "    x = np.random.uniform(0,1,n)\n",
        "    y = lin(a,b,x) + 0.1 * np.random.normal(0,3,n)\n",
        "    return x,y"
      ],
      "execution_count": 0,
      "outputs": []
    },
    {
      "metadata": {
        "id": "q45iWcsHIRz8",
        "colab_type": "code",
        "colab": {
          "autoexec": {
            "startup": false,
            "wait_interval": 0
          }
        }
      },
      "cell_type": "code",
      "source": [
        "x,y = fake_data(50,3.0,8.0)"
      ],
      "execution_count": 0,
      "outputs": []
    },
    {
      "metadata": {
        "id": "_r5GoF32ITk5",
        "colab_type": "code",
        "colab": {
          "autoexec": {
            "startup": false,
            "wait_interval": 0
          },
          "base_uri": "https://localhost:8080/",
          "height": 279
        },
        "outputId": "c697db69-0304-4b61-89e0-c7fc2efe1363",
        "executionInfo": {
          "status": "ok",
          "timestamp": 1530587733806,
          "user_tz": -330,
          "elapsed": 1569,
          "user": {
            "displayName": "Lokesh Dangi",
            "photoUrl": "//lh3.googleusercontent.com/-GRryg_nP_zQ/AAAAAAAAAAI/AAAAAAAAH0Y/-K9e3zxEasQ/s50-c-k-no/photo.jpg",
            "userId": "111948553550421305528"
          }
        }
      },
      "cell_type": "code",
      "source": [
        "plt.scatter(x,y,s = 8)\n",
        "plt.xlabel('X')\n",
        "plt.ylabel('Y')\n",
        "plt.show()"
      ],
      "execution_count": 8,
      "outputs": [
        {
          "output_type": "display_data",
          "data": {
            "image/png": "[encoded data removed]",
            "text/plain": [
              "<matplotlib.figure.Figure at 0x7fafd4ef1b70>"
            ]
          },
          "metadata": {
            "tags": []
          }
        }
      ]
    },
    {
      "metadata": {
        "id": "gIdAC99dIVYX",
        "colab_type": "code",
        "colab": {
          "autoexec": {
            "startup": false,
            "wait_interval": 0
          }
        }
      },
      "cell_type": "code",
      "source": [
        "def mse(y_hat,y): return ((y_hat - y)**2).mean()"
      ],
      "execution_count": 0,
      "outputs": []
    },
    {
      "metadata": {
        "id": "SSHS9wCIIW86",
        "colab_type": "code",
        "colab": {
          "autoexec": {
            "startup": false,
            "wait_interval": 0
          },
          "base_uri": "https://localhost:8080/",
          "height": 34
        },
        "outputId": "acc8e66d-eefe-48df-c163-9308aa76303c",
        "executionInfo": {
          "status": "ok",
          "timestamp": 1530587739734,
          "user_tz": -330,
          "elapsed": 1608,
          "user": {
            "displayName": "Lokesh Dangi",
            "photoUrl": "//lh3.googleusercontent.com/-GRryg_nP_zQ/AAAAAAAAAAI/AAAAAAAAH0Y/-K9e3zxEasQ/s50-c-k-no/photo.jpg",
            "userId": "111948553550421305528"
          }
        }
      },
      "cell_type": "code",
      "source": [
        "y_hat = lin(10,5,x)\n",
        "mse(y_hat,y)"
      ],
      "execution_count": 10,
      "outputs": [
        {
          "output_type": "execute_result",
          "data": {
            "text/plain": [
              "3.9857768251298595"
            ]
          },
          "metadata": {
            "tags": []
          },
          "execution_count": 10
        }
      ]
    },
    {
      "metadata": {
        "id": "sFcQbzXfIZnN",
        "colab_type": "code",
        "colab": {
          "autoexec": {
            "startup": false,
            "wait_interval": 0
          }
        }
      },
      "cell_type": "code",
      "source": [
        "def mse_loss(a,b,x,y): return mse(lin(a,b,x),y)"
      ],
      "execution_count": 0,
      "outputs": []
    },
    {
      "metadata": {
        "id": "OH13b5E2IbJo",
        "colab_type": "code",
        "colab": {
          "autoexec": {
            "startup": false,
            "wait_interval": 0
          },
          "base_uri": "https://localhost:8080/",
          "height": 68
        },
        "outputId": "ab73d6e2-e03e-4ffa-81ec-f2d6199758ed",
        "executionInfo": {
          "status": "ok",
          "timestamp": 1530588259516,
          "user_tz": -330,
          "elapsed": 1989,
          "user": {
            "displayName": "Lokesh Dangi",
            "photoUrl": "//lh3.googleusercontent.com/-GRryg_nP_zQ/AAAAAAAAAAI/AAAAAAAAH0Y/-K9e3zxEasQ/s50-c-k-no/photo.jpg",
            "userId": "111948553550421305528"
          }
        }
      },
      "cell_type": "code",
      "source": [
        "mse_loss(10,5,x,y)"
      ],
      "execution_count": 23,
      "outputs": [
        {
          "output_type": "execute_result",
          "data": {
            "text/plain": [
              "Variable containing:\n",
              " 4.4277\n",
              "[torch.FloatTensor of size 1]"
            ]
          },
          "metadata": {
            "tags": []
          },
          "execution_count": 23
        }
      ]
    },
    {
      "metadata": {
        "id": "E6orlCjoI4fi",
        "colab_type": "code",
        "colab": {
          "autoexec": {
            "startup": false,
            "wait_interval": 0
          }
        }
      },
      "cell_type": "code",
      "source": [
        "x,y = fake_data(10000,3.0,8.0)"
      ],
      "execution_count": 0,
      "outputs": []
    },
    {
      "metadata": {
        "id": "8IHU96BXJAK5",
        "colab_type": "code",
        "colab": {
          "autoexec": {
            "startup": false,
            "wait_interval": 0
          },
          "base_uri": "https://localhost:8080/",
          "height": 34
        },
        "outputId": "4b37ea81-3041-4d65-d141-2893ccfc7324",
        "executionInfo": {
          "status": "ok",
          "timestamp": 1530587798520,
          "user_tz": -330,
          "elapsed": 2341,
          "user": {
            "displayName": "Lokesh Dangi",
            "photoUrl": "//lh3.googleusercontent.com/-GRryg_nP_zQ/AAAAAAAAAAI/AAAAAAAAH0Y/-K9e3zxEasQ/s50-c-k-no/photo.jpg",
            "userId": "111948553550421305528"
          }
        }
      },
      "cell_type": "code",
      "source": [
        "x.shape,y.shape"
      ],
      "execution_count": 15,
      "outputs": [
        {
          "output_type": "execute_result",
          "data": {
            "text/plain": [
              "((10000,), (10000,))"
            ]
          },
          "metadata": {
            "tags": []
          },
          "execution_count": 15
        }
      ]
    },
    {
      "metadata": {
        "id": "SVEXhtGTJCtT",
        "colab_type": "code",
        "colab": {
          "autoexec": {
            "startup": false,
            "wait_interval": 0
          }
        }
      },
      "cell_type": "code",
      "source": [
        "x,y = V(x),V(y)"
      ],
      "execution_count": 0,
      "outputs": []
    },
    {
      "metadata": {
        "id": "W8Cy4usmJIs7",
        "colab_type": "code",
        "colab": {
          "autoexec": {
            "startup": false,
            "wait_interval": 0
          },
          "base_uri": "https://localhost:8080/",
          "height": 102
        },
        "outputId": "7969ff4b-d8ca-4f45-c7e6-d21165177d82",
        "executionInfo": {
          "status": "ok",
          "timestamp": 1530588003520,
          "user_tz": -330,
          "elapsed": 2077,
          "user": {
            "displayName": "Lokesh Dangi",
            "photoUrl": "//lh3.googleusercontent.com/-GRryg_nP_zQ/AAAAAAAAAAI/AAAAAAAAH0Y/-K9e3zxEasQ/s50-c-k-no/photo.jpg",
            "userId": "111948553550421305528"
          }
        }
      },
      "cell_type": "code",
      "source": [
        "a = V(np.random.randn(1),requires_grad = True)\n",
        "b = V(np.random.randn(1),requires_grad = True)\n",
        "a,b"
      ],
      "execution_count": 17,
      "outputs": [
        {
          "output_type": "execute_result",
          "data": {
            "text/plain": [
              "(Variable containing:\n",
              "  1.3323\n",
              " [torch.FloatTensor of size 1], Variable containing:\n",
              "  0.2029\n",
              " [torch.FloatTensor of size 1])"
            ]
          },
          "metadata": {
            "tags": []
          },
          "execution_count": 17
        }
      ]
    },
    {
      "metadata": {
        "id": "l-j3_cmOJ3Q-",
        "colab_type": "code",
        "colab": {
          "autoexec": {
            "startup": false,
            "wait_interval": 0
          }
        }
      },
      "cell_type": "code",
      "source": [
        "learning_rate = 1e-3"
      ],
      "execution_count": 0,
      "outputs": []
    },
    {
      "metadata": {
        "id": "OGu2A8wEKcry",
        "colab_type": "code",
        "colab": {
          "autoexec": {
            "startup": false,
            "wait_interval": 0
          },
          "base_uri": "https://localhost:8080/",
          "height": 187
        },
        "outputId": "9aee6f5e-c70a-491f-dd95-9ea0fd87c6d4",
        "executionInfo": {
          "status": "ok",
          "timestamp": 1530588881594,
          "user_tz": -330,
          "elapsed": 5928,
          "user": {
            "displayName": "Lokesh Dangi",
            "photoUrl": "//lh3.googleusercontent.com/-GRryg_nP_zQ/AAAAAAAAAAI/AAAAAAAAH0Y/-K9e3zxEasQ/s50-c-k-no/photo.jpg",
            "userId": "111948553550421305528"
          }
        }
      },
      "cell_type": "code",
      "source": [
        "for t in range(10000):\n",
        "  loss = mse_loss(a,b,x,y)\n",
        "  if t % 1000 == 0: print(loss.data[0])\n",
        "  loss.backward()\n",
        "  \n",
        "  a.data -= learning_rate * a.grad.data\n",
        "  b.data -= learning_rate * b.grad.data\n",
        "\n",
        "  a.grad.data.zero_()\n",
        "  b.grad.data.zero_()\n",
        "  \n",
        "  "
      ],
      "execution_count": 26,
      "outputs": [
        {
          "output_type": "stream",
          "text": [
            "26.570159912109375\n",
            "0.27958258986473083\n",
            "0.12644465267658234\n",
            "0.11757564544677734\n",
            "0.11145472526550293\n",
            "0.1067577600479126\n",
            "0.10315419733524323\n",
            "0.10038892924785614\n",
            "0.09826730936765671\n",
            "0.09663926810026169\n"
          ],
          "name": "stdout"
        }
      ]
    },
    {
      "metadata": {
        "id": "NFj0U2-JNBUc",
        "colab_type": "code",
        "colab": {
          "autoexec": {
            "startup": false,
            "wait_interval": 0
          },
          "base_uri": "https://localhost:8080/",
          "height": 34
        },
        "outputId": "1ab87737-ae03-41bc-dbd0-675e84b963e1",
        "executionInfo": {
          "status": "ok",
          "timestamp": 1530592066406,
          "user_tz": -330,
          "elapsed": 1274,
          "user": {
            "displayName": "Lokesh Dangi",
            "photoUrl": "//lh3.googleusercontent.com/-GRryg_nP_zQ/AAAAAAAAAAI/AAAAAAAAH0Y/-K9e3zxEasQ/s50-c-k-no/photo.jpg",
            "userId": "111948553550421305528"
          }
        }
      },
      "cell_type": "code",
      "source": [
        "a.data[0],b.data[0]"
      ],
      "execution_count": 29,
      "outputs": [
        {
          "output_type": "execute_result",
          "data": {
            "text/plain": [
              "(2.796562433242798, 8.1134614944458)"
            ]
          },
          "metadata": {
            "tags": []
          },
          "execution_count": 29
        }
      ]
    },
    {
      "metadata": {
        "id": "SWFbLgXDOeuF",
        "colab_type": "code",
        "colab": {
          "autoexec": {
            "startup": false,
            "wait_interval": 0
          }
        }
      },
      "cell_type": "code",
      "source": [
        ""
      ],
      "execution_count": 0,
      "outputs": []
    }
  ]
}